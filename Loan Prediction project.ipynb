{
 "cells": [
  {
   "cell_type": "code",
   "execution_count": 45,
   "metadata": {},
   "outputs": [],
   "source": [
    "import pandas as pd\n",
    "import numpy as np\n",
    "import seaborn as sns\n",
    "from sklearn import preprocessing\n",
    "from sklearn.model_selection import train_test_split\n",
    "from sklearn.metrics import confusion_matrix \n",
    "from sklearn.metrics import accuracy_score\n",
    "from sklearn.model_selection import train_test_split\n",
    "from sklearn.ensemble import RandomForestClassifier\n",
    "from sklearn.feature_selection import RFE\n",
    "from sklearn.metrics import confusion_matrix,accuracy_score,f1_score"
   ]
  },
  {
   "cell_type": "code",
   "execution_count": 164,
   "metadata": {},
   "outputs": [],
   "source": [
    "train_data=pd.read_csv(r'C:\\Users\\User\\Desktop\\ms\\loan prediction\\train_ctrUa4K.csv')\n",
    "test_data=pd.read_csv(r'C:\\Users\\User\\Desktop\\ms\\loan prediction\\test_lAUu6dG.csv')"
   ]
  },
  {
   "cell_type": "code",
   "execution_count": 165,
   "metadata": {},
   "outputs": [],
   "source": [
    "train_data=pd.DataFrame(train_data)\n",
    "test_data=pd.DataFrame(test_data)"
   ]
  },
  {
   "cell_type": "code",
   "execution_count": 166,
   "metadata": {},
   "outputs": [],
   "source": [
    "from sklearn.impute import SimpleImputer\n",
    "imp = SimpleImputer(strategy='most_frequent')\n",
    "train_data1=imp.fit_transform(train_data)\n",
    "test_data1=imp.fit_transform(test_data)"
   ]
  },
  {
   "cell_type": "code",
   "execution_count": 167,
   "metadata": {},
   "outputs": [],
   "source": [
    "train_data1=pd.DataFrame(train_data1,columns=train_data.columns)\n",
    "test_data1=pd.DataFrame(test_data1,columns=test_data.columns)"
   ]
  },
  {
   "cell_type": "code",
   "execution_count": 168,
   "metadata": {},
   "outputs": [],
   "source": [
    "#drop loan id column\n",
    "train_data1=train_data1.drop(columns=['Loan_ID'])\n",
    "test_data1=test_data1.drop(columns=['Loan_ID'])"
   ]
  },
  {
   "cell_type": "code",
   "execution_count": 169,
   "metadata": {},
   "outputs": [
    {
     "data": {
      "text/plain": [
       "Y    422\n",
       "N    192\n",
       "Name: Loan_Status, dtype: int64"
      ]
     },
     "execution_count": 169,
     "metadata": {},
     "output_type": "execute_result"
    },
    {
     "data": {
      "image/png": "[encoded data removed]",
      "text/plain": [
       "<Figure size 432x288 with 1 Axes>"
      ]
     },
     "metadata": {
      "needs_background": "light"
     },
     "output_type": "display_data"
    }
   ],
   "source": [
    "#visulization of target distribution\n",
    "sns.countplot(train_data1[\"Loan_Status\"])\n",
    "train_data1[\"Loan_Status\"].value_counts()"
   ]
  },
  {
   "cell_type": "code",
   "execution_count": 170,
   "metadata": {},
   "outputs": [
    {
     "data": {
      "text/plain": [
       "Male      347\n",
       "Female     75\n",
       "Name: Gender, dtype: int64"
      ]
     },
     "execution_count": 170,
     "metadata": {},
     "output_type": "execute_result"
    },
    {
     "data": {
      "image/png": "[encoded data removed]",
      "text/plain": [
       "<Figure size 432x288 with 1 Axes>"
      ]
     },
     "metadata": {
      "needs_background": "light"
     },
     "output_type": "display_data"
    }
   ],
   "source": [
    "# see effect of Gender on loan stats\n",
    "sns.countplot(x=\"Gender\",hue=\"Loan_Status\",data=train_data1)\n",
    "\n",
    "train_data1.loc[train_data1[\"Loan_Status\"]=='Y']['Gender'].value_counts()"
   ]
  },
  {
   "cell_type": "code",
   "execution_count": 171,
   "metadata": {},
   "outputs": [
    {
     "data": {
      "text/plain": [
       "Male      502\n",
       "Female    112\n",
       "Name: Gender, dtype: int64"
      ]
     },
     "execution_count": 171,
     "metadata": {},
     "output_type": "execute_result"
    }
   ],
   "source": [
    "train_data1['Gender'].value_counts()"
   ]
  },
  {
   "cell_type": "code",
   "execution_count": 172,
   "metadata": {},
   "outputs": [],
   "source": [
    "train_data1['Gender']=train_data1['Gender'].replace(['Male','Female'],[2,1])\n",
    "\n",
    "test_data1['Gender']=test_data1['Gender'].replace(['Male','Female'],[2,1])"
   ]
  },
  {
   "cell_type": "code",
   "execution_count": 173,
   "metadata": {},
   "outputs": [
    {
     "data": {
      "text/plain": [
       "Yes    288\n",
       "No     134\n",
       "Name: Married, dtype: int64"
      ]
     },
     "execution_count": 173,
     "metadata": {},
     "output_type": "execute_result"
    },
    {
     "data": {
      "image/png": "[encoded data removed]",
      "text/plain": [
       "<Figure size 432x288 with 1 Axes>"
      ]
     },
     "metadata": {
      "needs_background": "light"
     },
     "output_type": "display_data"
    }
   ],
   "source": [
    "# see effect of married on loan stats\n",
    "sns.countplot(x=\"Married\",hue=\"Loan_Status\",data=train_data1)\n",
    "\n",
    "train_data1.loc[train_data1[\"Loan_Status\"]=='Y']['Married'].value_counts()"
   ]
  },
  {
   "cell_type": "code",
   "execution_count": 174,
   "metadata": {},
   "outputs": [],
   "source": [
    "train_data1['Married']=train_data1['Married'].replace(['Yes','No'],[2,1])\n",
    "\n",
    "test_data1['Married']=test_data1['Married'].replace(['Yes','No'],[2,1])"
   ]
  },
  {
   "cell_type": "code",
   "execution_count": 175,
   "metadata": {},
   "outputs": [
    {
     "data": {
      "text/plain": [
       "0     247\n",
       "2      76\n",
       "1      66\n",
       "3+     33\n",
       "Name: Dependents, dtype: int64"
      ]
     },
     "execution_count": 175,
     "metadata": {},
     "output_type": "execute_result"
    },
    {
     "data": {
      "image/png": "[encoded data removed]",
      "text/plain": [
       "<Figure size 432x288 with 1 Axes>"
      ]
     },
     "metadata": {
      "needs_background": "light"
     },
     "output_type": "display_data"
    }
   ],
   "source": [
    "# see effect of Dependents on loan stats\n",
    "sns.countplot(x=\"Dependents\",hue=\"Loan_Status\",data=train_data1)\n",
    "\n",
    "train_data1.loc[train_data1[\"Loan_Status\"]=='Y']['Dependents'].value_counts()"
   ]
  },
  {
   "cell_type": "code",
   "execution_count": 176,
   "metadata": {},
   "outputs": [],
   "source": [
    "train_data1['Dependents']=train_data1['Dependents'].replace(['0','2','1','3+'],[3,4,2,1])\n",
    "\n",
    "test_data1['Dependents']=test_data1['Dependents'].replace(['0','2','1','3+'],[3,4,2,1])"
   ]
  },
  {
   "cell_type": "code",
   "execution_count": 177,
   "metadata": {},
   "outputs": [
    {
     "data": {
      "text/plain": [
       "Graduate        340\n",
       "Not Graduate     82\n",
       "Name: Education, dtype: int64"
      ]
     },
     "execution_count": 177,
     "metadata": {},
     "output_type": "execute_result"
    },
    {
     "data": {
      "image/png": "[encoded data removed]",
      "text/plain": [
       "<Figure size 432x288 with 1 Axes>"
      ]
     },
     "metadata": {
      "needs_background": "light"
     },
     "output_type": "display_data"
    }
   ],
   "source": [
    "# see effect of Education on loan stats\n",
    "sns.countplot(x=\"Education\",hue=\"Loan_Status\",data=train_data1)\n",
    "\n",
    "train_data1.loc[train_data1[\"Loan_Status\"]=='Y']['Education'].value_counts()"
   ]
  },
  {
   "cell_type": "code",
   "execution_count": 178,
   "metadata": {},
   "outputs": [],
   "source": [
    "train_data1['Education']=train_data1['Education'].replace(['Graduate','Not Graduate'],[2,1])\n",
    "\n",
    "test_data1['Education']=test_data1['Education'].replace(['Graduate','Not Graduate'],[2,1])"
   ]
  },
  {
   "cell_type": "code",
   "execution_count": 179,
   "metadata": {},
   "outputs": [
    {
     "data": {
      "text/plain": [
       "No     366\n",
       "Yes     56\n",
       "Name: Self_Employed, dtype: int64"
      ]
     },
     "execution_count": 179,
     "metadata": {},
     "output_type": "execute_result"
    },
    {
     "data": {
      "image/png": "[encoded data removed]",
      "text/plain": [
       "<Figure size 432x288 with 1 Axes>"
      ]
     },
     "metadata": {
      "needs_background": "light"
     },
     "output_type": "display_data"
    }
   ],
   "source": [
    "# see effect of Self_Employed on loan stats\n",
    "sns.countplot(x=\"Self_Employed\",hue=\"Loan_Status\",data=train_data1)\n",
    "\n",
    "train_data1.loc[train_data1[\"Loan_Status\"]=='Y']['Self_Employed'].value_counts()"
   ]
  },
  {
   "cell_type": "code",
   "execution_count": 180,
   "metadata": {},
   "outputs": [
    {
     "data": {
      "text/plain": [
       "No     500\n",
       "Yes     82\n",
       "Name: Self_Employed, dtype: int64"
      ]
     },
     "execution_count": 180,
     "metadata": {},
     "output_type": "execute_result"
    }
   ],
   "source": [
    "train_data['Self_Employed'].value_counts()"
   ]
  },
  {
   "cell_type": "code",
   "execution_count": 181,
   "metadata": {},
   "outputs": [],
   "source": [
    "train_data1['Self_Employed']=train_data1['Self_Employed'].replace(['No','Yes'],[2,1])\n",
    "\n",
    "test_data1['Self_Employed']=test_data1['Self_Employed'].replace(['No','Yes'],[2,1])"
   ]
  },
  {
   "cell_type": "code",
   "execution_count": 182,
   "metadata": {},
   "outputs": [
    {
     "data": {
      "text/plain": [
       "360.0    367\n",
       "180.0     29\n",
       "300.0      8\n",
       "480.0      6\n",
       "120.0      3\n",
       "240.0      3\n",
       "84.0       3\n",
       "60.0       2\n",
       "12.0       1\n",
       "Name: Loan_Amount_Term, dtype: int64"
      ]
     },
     "execution_count": 182,
     "metadata": {},
     "output_type": "execute_result"
    },
    {
     "data": {
      "image/png": "[encoded data removed]",
      "text/plain": [
       "<Figure size 432x288 with 1 Axes>"
      ]
     },
     "metadata": {
      "needs_background": "light"
     },
     "output_type": "display_data"
    }
   ],
   "source": [
    "# see effect of Loan_Amount_Term on loan stats\n",
    "sns.countplot(x=\"Loan_Amount_Term\",hue=\"Loan_Status\",data=train_data1)\n",
    "\n",
    "train_data1.loc[train_data1[\"Loan_Status\"]=='Y']['Loan_Amount_Term'].value_counts()"
   ]
  },
  {
   "cell_type": "code",
   "execution_count": 183,
   "metadata": {},
   "outputs": [],
   "source": [
    "train_data1['Loan_Amount_Term']=train_data1['Loan_Amount_Term'].replace([360.0,180.0,480.0,300.0,84.0,240.0,120.0,36.0,60.0,12.0],[52,4,3,3,2,2,2,1,1,1])\n",
    "\n",
    "test_data1['Loan_Amount_Term']=test_data1['Loan_Amount_Term'].replace([360.0,180.0,480.0,300.0,84.0,240.0,120.0,36.0,60.0,12.0],[5,3,4,3,2,2,2,1,1,1])"
   ]
  },
  {
   "cell_type": "code",
   "execution_count": 184,
   "metadata": {},
   "outputs": [
    {
     "data": {
      "text/plain": [
       "1.0    415\n",
       "0.0      7\n",
       "Name: Credit_History, dtype: int64"
      ]
     },
     "execution_count": 184,
     "metadata": {},
     "output_type": "execute_result"
    },
    {
     "data": {
      "image/png": "[encoded data removed]",
      "text/plain": [
       "<Figure size 432x288 with 1 Axes>"
      ]
     },
     "metadata": {
      "needs_background": "light"
     },
     "output_type": "display_data"
    }
   ],
   "source": [
    "# see effect of Credit_History on loan stats\n",
    "sns.countplot(x=\"Credit_History\",hue=\"Loan_Status\",data=train_data1)\n",
    "\n",
    "train_data1.loc[train_data1[\"Loan_Status\"]=='Y']['Credit_History'].value_counts()"
   ]
  },
  {
   "cell_type": "code",
   "execution_count": 185,
   "metadata": {},
   "outputs": [
    {
     "data": {
      "text/plain": [
       "1.0    525\n",
       "0.0     89\n",
       "Name: Credit_History, dtype: int64"
      ]
     },
     "execution_count": 185,
     "metadata": {},
     "output_type": "execute_result"
    }
   ],
   "source": [
    "train_data1['Credit_History'].value_counts()"
   ]
  },
  {
   "cell_type": "code",
   "execution_count": 186,
   "metadata": {},
   "outputs": [
    {
     "data": {
      "text/plain": [
       "Semiurban    179\n",
       "Urban        133\n",
       "Rural        110\n",
       "Name: Property_Area, dtype: int64"
      ]
     },
     "execution_count": 186,
     "metadata": {},
     "output_type": "execute_result"
    },
    {
     "data": {
      "image/png": "[encoded data removed]",
      "text/plain": [
       "<Figure size 432x288 with 1 Axes>"
      ]
     },
     "metadata": {
      "needs_background": "light"
     },
     "output_type": "display_data"
    }
   ],
   "source": [
    "# see effect of Property_Area on loan stats\n",
    "sns.countplot(x=\"Property_Area\",hue=\"Loan_Status\",data=train_data1)\n",
    "\n",
    "train_data1.loc[train_data1[\"Loan_Status\"]=='Y']['Property_Area'].value_counts()"
   ]
  },
  {
   "cell_type": "code",
   "execution_count": 187,
   "metadata": {},
   "outputs": [],
   "source": [
    "train_data1['Property_Area']=train_data1['Property_Area'].replace(['Semiurban','Urban','Rural'],[3,2,1])\n",
    "test_data1['Property_Area']=test_data1['Property_Area'].replace(['Semiurban','Urban','Rural'],[3,2,1])"
   ]
  },
  {
   "cell_type": "code",
   "execution_count": 188,
   "metadata": {},
   "outputs": [],
   "source": [
    "# change data typr of train_data\n",
    "train_data1[\"ApplicantIncome\"]=train_data1[\"ApplicantIncome\"].astype(int)\n",
    "train_data1[\"CoapplicantIncome\"]=train_data1[\"CoapplicantIncome\"].astype(int)\n",
    "train_data1[\"LoanAmount\"]=train_data1[\"LoanAmount\"].astype(int)\n",
    "train_data1[\"Credit_History\"]=train_data1[\"Credit_History\"].astype(int)"
   ]
  },
  {
   "cell_type": "code",
   "execution_count": 189,
   "metadata": {},
   "outputs": [],
   "source": [
    "# change data typr of test_data\n",
    "test_data1[\"ApplicantIncome\"]=test_data1[\"ApplicantIncome\"].astype(int)\n",
    "test_data1[\"CoapplicantIncome\"]=test_data1[\"CoapplicantIncome\"].astype(int)\n",
    "test_data1[\"LoanAmount\"]=test_data1[\"LoanAmount\"].astype(int)\n",
    "test_data1[\"Credit_History\"]=test_data1[\"Credit_History\"].astype(int)"
   ]
  },
  {
   "cell_type": "code",
   "execution_count": 190,
   "metadata": {},
   "outputs": [],
   "source": [
    "# bulid a new feature of total income\n",
    "train_data1[\"Total_Income\"]=train_data1[\"ApplicantIncome\"]+train_data1[\"CoapplicantIncome\"]\n",
    "\n",
    "test_data1[\"Total_Income\"]=test_data1[\"ApplicantIncome\"]+test_data1[\"CoapplicantIncome\"]"
   ]
  },
  {
   "cell_type": "code",
   "execution_count": 191,
   "metadata": {},
   "outputs": [],
   "source": [
    "# drop ApplicantIncome and CoapplicantIncome\n",
    "train_data2=train_data1.drop(columns=['ApplicantIncome','CoapplicantIncome'])\n",
    "\n",
    "test_data2=test_data1.drop(columns=['ApplicantIncome','CoapplicantIncome'])"
   ]
  },
  {
   "cell_type": "code",
   "execution_count": 192,
   "metadata": {},
   "outputs": [],
   "source": [
    "# bulid a new feature of Income_Ratio\n",
    "train_data2[\"Income_Ratio\"]=train_data2[\"Total_Income\"]/train_data2[\"LoanAmount\"]\n",
    "\n",
    "test_data2[\"Income_Ratio\"]=test_data2[\"Total_Income\"]/test_data2[\"LoanAmount\"]"
   ]
  },
  {
   "cell_type": "code",
   "execution_count": 258,
   "metadata": {},
   "outputs": [],
   "source": [
    "y=train_data2.iloc[:,9]\n",
    "x=train_data2.drop(columns=[\"Loan_Status\"])"
   ]
  },
  {
   "cell_type": "code",
   "execution_count": 259,
   "metadata": {},
   "outputs": [],
   "source": [
    "selector = RFE(classifier, n_features_to_select=9, step=1)\n",
    "selector = selector.fit(x, y)\n",
    "xb=x.loc[:,selector.support_]\n",
    "test_data3=test_data2.loc[:,selector.support_]"
   ]
  },
  {
   "cell_type": "code",
   "execution_count": 309,
   "metadata": {},
   "outputs": [
    {
     "name": "stderr",
     "output_type": "stream",
     "text": [
      "C:\\Users\\User\\anaconda4\\lib\\site-packages\\sklearn\\discriminant_analysis.py:463: ChangedBehaviorWarning: n_components cannot be larger than min(n_features, n_classes - 1). Using min(n_features, n_classes - 1) = min(9, 2 - 1) = 1 components.\n",
      "  ChangedBehaviorWarning)\n",
      "C:\\Users\\User\\anaconda4\\lib\\site-packages\\sklearn\\discriminant_analysis.py:469: FutureWarning: In version 0.23, setting n_components > min(n_features, n_classes - 1) will raise a ValueError. You should set n_components to None (default), or a value smaller or equal to min(n_features, n_classes - 1).\n",
      "  warnings.warn(future_msg, FutureWarning)\n"
     ]
    }
   ],
   "source": [
    "from sklearn.discriminant_analysis import LinearDiscriminantAnalysis\n",
    "lda = LinearDiscriminantAnalysis(n_components=6)\n",
    "xl=lda.fit(xb, y).transform(xb)\n",
    "test_data4=lda.transform(test_data3)"
   ]
  },
  {
   "cell_type": "code",
   "execution_count": 310,
   "metadata": {},
   "outputs": [],
   "source": [
    "X_train, X_test, y_train, y_test = train_test_split(xl, y, test_size=0.2)"
   ]
  },
  {
   "cell_type": "code",
   "execution_count": 311,
   "metadata": {},
   "outputs": [],
   "source": [
    "from sklearn.ensemble import RandomForestClassifier\n",
    "classifier = RandomForestClassifier(n_estimators =250,max_depth=8, min_samples_split=5)\n",
    "classifier.fit(X_train,y_train)\n",
    "pred1=classifier.predict(X_test)"
   ]
  },
  {
   "cell_type": "code",
   "execution_count": 312,
   "metadata": {},
   "outputs": [
    {
     "name": "stdout",
     "output_type": "stream",
     "text": [
      "[[16 17]\n",
      " [ 2 88]]\n",
      "0.8455284552845529\n",
      "0.8287532649082147\n"
     ]
    }
   ],
   "source": [
    "\n",
    "print(confusion_matrix(y_test, pred1))\n",
    "print(accuracy_score(y_test,pred1))\n",
    "print(f1_score(y_test,pred1,average='weighted'))"
   ]
  },
  {
   "cell_type": "code",
   "execution_count": 313,
   "metadata": {},
   "outputs": [
    {
     "name": "stdout",
     "output_type": "stream",
     "text": [
      "[[17 16]\n",
      " [ 5 85]]\n",
      "0.8292682926829268\n",
      "0.8171114800153236\n"
     ]
    }
   ],
   "source": [
    "from sklearn.tree import DecisionTreeClassifier\n",
    "clf = DecisionTreeClassifier(random_state=0,max_depth=8, min_samples_split=2)\n",
    "clf.fit(X_train,y_train)\n",
    "pred1=clf.predict(X_test)\n",
    "print(confusion_matrix(y_test, pred1))\n",
    "print(accuracy_score(y_test,pred1))\n",
    "print(f1_score(y_test,pred1,average='weighted'))"
   ]
  },
  {
   "cell_type": "code",
   "execution_count": 314,
   "metadata": {},
   "outputs": [
    {
     "name": "stdout",
     "output_type": "stream",
     "text": [
      "[[18 15]\n",
      " [ 2 88]]\n",
      "0.8617886178861789\n",
      "0.849492952843303\n"
     ]
    }
   ],
   "source": [
    "from sklearn.ensemble import AdaBoostClassifier\n",
    "adb= AdaBoostClassifier(n_estimators=50, random_state=0)\n",
    "adb.fit(X_train,y_train)\n",
    "pred1=adb.predict(X_test)\n",
    "print(confusion_matrix(y_test, pred1))\n",
    "print(accuracy_score(y_test,pred1))\n",
    "print(f1_score(y_test,pred1,average='weighted'))"
   ]
  },
  {
   "cell_type": "code",
   "execution_count": 315,
   "metadata": {},
   "outputs": [
    {
     "name": "stdout",
     "output_type": "stream",
     "text": [
      "[[16 17]\n",
      " [ 3 87]]\n",
      "0.8373983739837398\n",
      "0.8213767625384423\n"
     ]
    }
   ],
   "source": [
    "from sklearn.ensemble import GradientBoostingClassifier\n",
    "gbc= GradientBoostingClassifier(random_state=0,n_estimators=50)\n",
    "gbc.fit(X_train,y_train)\n",
    "pred1=gbc.predict(X_test)\n",
    "print(confusion_matrix(y_test, pred1))\n",
    "print(accuracy_score(y_test,pred1))\n",
    "print(f1_score(y_test,pred1,average='weighted'))"
   ]
  },
  {
   "cell_type": "code",
   "execution_count": 316,
   "metadata": {},
   "outputs": [
    {
     "name": "stdout",
     "output_type": "stream",
     "text": [
      "[[15 18]\n",
      " [ 0 90]]\n",
      "0.8536585365853658\n",
      "0.8328713968957872\n"
     ]
    }
   ],
   "source": [
    "from sklearn.naive_bayes import GaussianNB\n",
    "nb = GaussianNB()\n",
    "nb.fit(X_train,y_train)\n",
    "pred1=nb.predict(X_test)\n",
    "print(confusion_matrix(y_test, pred1))\n",
    "print(accuracy_score(y_test,pred1))\n",
    "print(f1_score(y_test,pred1,average='weighted'))"
   ]
  },
  {
   "cell_type": "code",
   "execution_count": 366,
   "metadata": {},
   "outputs": [
    {
     "name": "stdout",
     "output_type": "stream",
     "text": [
      "[[16 17]\n",
      " [ 3 87]]\n",
      "0.8373983739837398\n",
      "0.8213767625384423\n"
     ]
    }
   ],
   "source": [
    "from sklearn.ensemble import VotingClassifier\n",
    "estim=[('classifier',classifier),('clf',clf),('adb',adb),('gbc',gbc),('nb',nb)]\n",
    "vt=VotingClassifier(estimators=estim,voting=\"soft\")\n",
    "vt.fit(X_train,y_train)\n",
    "pred1=vt.predict(X_test)\n",
    "print(confusion_matrix(y_test, pred1))\n",
    "print(accuracy_score(y_test,pred1))\n",
    "print(f1_score(y_test,pred1,average='weighted'))"
   ]
  },
  {
   "cell_type": "code",
   "execution_count": null,
   "metadata": {},
   "outputs": [],
   "source": []
  },
  {
   "cell_type": "code",
   "execution_count": 367,
   "metadata": {},
   "outputs": [],
   "source": [
    "pred_l=vt.predict(test_data4)"
   ]
  },
  {
   "cell_type": "code",
   "execution_count": 368,
   "metadata": {},
   "outputs": [],
   "source": [
    "pred_sub=pd.DataFrame(pred_l,columns=[\"Loan_Status\"])"
   ]
  },
  {
   "cell_type": "code",
   "execution_count": 369,
   "metadata": {},
   "outputs": [],
   "source": [
    "final_data=pd.DataFrame(pd.concat([test_data.iloc[:,0],pred_sub],axis=1))"
   ]
  },
  {
   "cell_type": "code",
   "execution_count": 370,
   "metadata": {},
   "outputs": [],
   "source": [
    "final_data.to_csv(r'C:\\Users\\User\\Downloads\\loan_pred.csv',index=False) "
   ]
  },
  {
   "cell_type": "code",
   "execution_count": 371,
   "metadata": {},
   "outputs": [
    {
     "data": {
      "text/html": [
       "<div>\n",
       "<style scoped>\n",
       "    .dataframe tbody tr th:only-of-type {\n",
       "        vertical-align: middle;\n",
       "    }\n",
       "\n",
       "    .dataframe tbody tr th {\n",
       "        vertical-align: top;\n",
       "    }\n",
       "\n",
       "    .dataframe thead th {\n",
       "        text-align: right;\n",
       "    }\n",
       "</style>\n",
       "<table border=\"1\" class=\"dataframe\">\n",
       "  <thead>\n",
       "    <tr style=\"text-align: right;\">\n",
       "      <th></th>\n",
       "      <th>Loan_ID</th>\n",
       "      <th>Loan_Status</th>\n",
       "    </tr>\n",
       "  </thead>\n",
       "  <tbody>\n",
       "    <tr>\n",
       "      <th>0</th>\n",
       "      <td>LP001015</td>\n",
       "      <td>Y</td>\n",
       "    </tr>\n",
       "    <tr>\n",
       "      <th>1</th>\n",
       "      <td>LP001022</td>\n",
       "      <td>Y</td>\n",
       "    </tr>\n",
       "    <tr>\n",
       "      <th>2</th>\n",
       "      <td>LP001031</td>\n",
       "      <td>Y</td>\n",
       "    </tr>\n",
       "    <tr>\n",
       "      <th>3</th>\n",
       "      <td>LP001035</td>\n",
       "      <td>Y</td>\n",
       "    </tr>\n",
       "    <tr>\n",
       "      <th>4</th>\n",
       "      <td>LP001051</td>\n",
       "      <td>Y</td>\n",
       "    </tr>\n",
       "    <tr>\n",
       "      <th>...</th>\n",
       "      <td>...</td>\n",
       "      <td>...</td>\n",
       "    </tr>\n",
       "    <tr>\n",
       "      <th>362</th>\n",
       "      <td>LP002971</td>\n",
       "      <td>Y</td>\n",
       "    </tr>\n",
       "    <tr>\n",
       "      <th>363</th>\n",
       "      <td>LP002975</td>\n",
       "      <td>Y</td>\n",
       "    </tr>\n",
       "    <tr>\n",
       "      <th>364</th>\n",
       "      <td>LP002980</td>\n",
       "      <td>Y</td>\n",
       "    </tr>\n",
       "    <tr>\n",
       "      <th>365</th>\n",
       "      <td>LP002986</td>\n",
       "      <td>Y</td>\n",
       "    </tr>\n",
       "    <tr>\n",
       "      <th>366</th>\n",
       "      <td>LP002989</td>\n",
       "      <td>Y</td>\n",
       "    </tr>\n",
       "  </tbody>\n",
       "</table>\n",
       "<p>367 rows × 2 columns</p>\n",
       "</div>"
      ],
      "text/plain": [
       "      Loan_ID Loan_Status\n",
       "0    LP001015           Y\n",
       "1    LP001022           Y\n",
       "2    LP001031           Y\n",
       "3    LP001035           Y\n",
       "4    LP001051           Y\n",
       "..        ...         ...\n",
       "362  LP002971           Y\n",
       "363  LP002975           Y\n",
       "364  LP002980           Y\n",
       "365  LP002986           Y\n",
       "366  LP002989           Y\n",
       "\n",
       "[367 rows x 2 columns]"
      ]
     },
     "execution_count": 371,
     "metadata": {},
     "output_type": "execute_result"
    }
   ],
   "source": [
    "final_data"
   ]
  },
  {
   "cell_type": "code",
   "execution_count": null,
   "metadata": {},
   "outputs": [],
   "source": []
  }
 ],
 "metadata": {
  "kernelspec": {
   "display_name": "Python 3",
   "language": "python",
   "name": "python3"
  },
  "language_info": {
   "codemirror_mode": {
    "name": "ipython",
    "version": 3
   },
   "file_extension": ".py",
   "mimetype": "text/x-python",
   "name": "python",
   "nbconvert_exporter": "python",
   "pygments_lexer": "ipython3",
   "version": "3.7.6"
  }
 },
 "nbformat": 4,
 "nbformat_minor": 2
}
